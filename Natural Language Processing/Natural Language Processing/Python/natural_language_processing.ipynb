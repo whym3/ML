{
  "cells": [
    {
      "cell_type": "markdown",
      "metadata": {
        "colab_type": "text",
        "id": "VwK5-9FIB-lu"
      },
      "source": [
        "# Natural Language Processing"
      ]
    },
    {
      "cell_type": "markdown",
      "metadata": {
        "colab_type": "text",
        "id": "X1kiO9kACE6s"
      },
      "source": [
        "## Importing the libraries"
      ]
    },
    {
      "cell_type": "code",
      "execution_count": 5,
      "metadata": {
        "colab": {},
        "colab_type": "code",
        "id": "7QG7sxmoCIvN"
      },
      "outputs": [],
      "source": [
        "import numpy as np\n",
        "import matplotlib.pyplot as plt\n",
        "import pandas as pd"
      ]
    },
    {
      "cell_type": "markdown",
      "metadata": {
        "colab_type": "text",
        "id": "wTfaCIzdCLPA"
      },
      "source": [
        "## Importing the dataset"
      ]
    },
    {
      "cell_type": "code",
      "execution_count": 6,
      "metadata": {
        "colab": {},
        "colab_type": "code",
        "id": "UCK6vQ5QCQJe"
      },
      "outputs": [],
      "source": [
        "dataset = pd.read_csv('Restaurant_Reviews.tsv', delimiter = '\\t', quoting = 3)"
      ]
    },
    {
      "cell_type": "markdown",
      "metadata": {
        "colab_type": "text",
        "id": "Qekztq71CixT"
      },
      "source": [
        "## Cleaning the texts"
      ]
    },
    {
      "cell_type": "code",
      "execution_count": 1,
      "metadata": {},
      "outputs": [
        {
          "name": "stdout",
          "output_type": "stream",
          "text": [
            "Collecting nltk\n",
            "  Downloading nltk-3.9.1-py3-none-any.whl.metadata (2.9 kB)\n",
            "Collecting click (from nltk)\n",
            "  Using cached click-8.1.8-py3-none-any.whl.metadata (2.3 kB)\n",
            "Requirement already satisfied: joblib in /opt/anaconda3/envs/pyml/lib/python3.9/site-packages (from nltk) (1.4.2)\n",
            "Collecting regex>=2021.8.3 (from nltk)\n",
            "  Downloading regex-2024.11.6-cp39-cp39-macosx_11_0_arm64.whl.metadata (40 kB)\n",
            "Collecting tqdm (from nltk)\n",
            "  Using cached tqdm-4.67.1-py3-none-any.whl.metadata (57 kB)\n",
            "Downloading nltk-3.9.1-py3-none-any.whl (1.5 MB)\n",
            "\u001b[2K   \u001b[90m━━━━━━━━━━━━━━━━━━━━━━━━━━━━━━━━━━━━━━━━\u001b[0m \u001b[32m1.5/1.5 MB\u001b[0m \u001b[31m16.1 MB/s\u001b[0m eta \u001b[36m0:00:00\u001b[0m\n",
            "\u001b[?25hDownloading regex-2024.11.6-cp39-cp39-macosx_11_0_arm64.whl (284 kB)\n",
            "Using cached click-8.1.8-py3-none-any.whl (98 kB)\n",
            "Using cached tqdm-4.67.1-py3-none-any.whl (78 kB)\n",
            "Installing collected packages: tqdm, regex, click, nltk\n",
            "Successfully installed click-8.1.8 nltk-3.9.1 regex-2024.11.6 tqdm-4.67.1\n"
          ]
        }
      ],
      "source": [
        "!pip install nltk"
      ]
    },
    {
      "cell_type": "code",
      "execution_count": 7,
      "metadata": {},
      "outputs": [
        {
          "name": "stderr",
          "output_type": "stream",
          "text": [
            "[nltk_data] Downloading package stopwords to\n",
            "[nltk_data]     /Users/santosh/nltk_data...\n",
            "[nltk_data]   Package stopwords is already up-to-date!\n"
          ]
        }
      ],
      "source": [
        "import re\n",
        "import nltk\n",
        "nltk.download('stopwords')\n",
        "from nltk.corpus import stopwords\n",
        "from nltk.stem.porter import PorterStemmer\n",
        "\n",
        "corpus = []\n",
        "for i in range(0, 1000):\n",
        "    review = re.sub('[^a-zA-Z]','',dataset['Review'][i])\n",
        "    review = review.lower()\n",
        "    review = review.split()\n",
        "    ps = PorterStemmer()\n",
        "    all_stopwords = stopwords.words('english')\n",
        "    all_stopwords.remove('not')\n",
        "    review = [ps.stem(word) for word in review if not word in set(all_stopwords)]\n",
        "    review = ''.join(review)\n",
        "    corpus.append(review)\n",
        "\n"
      ]
    },
    {
      "cell_type": "code",
      "execution_count": 8,
      "metadata": {
        "colab": {
          "base_uri": "https://localhost:8080/",
          "height": 55
        },
        "colab_type": "code",
        "id": "KpGWdrzGoAsL",
        "outputId": "a1d5020d-8005-4735-d4b9-ad99fb366534"
      },
      "outputs": [
        {
          "name": "stdout",
          "output_type": "stream",
          "text": [
            "['wowlovedthisplac', 'crustisnotgood', 'nottastyandthetexturewasjustnasti', 'stoppedbyduringthelatemaybankholidayoffricksteverecommendationandlovedit', 'theselectiononthemenuwasgreatandsowerethepric', 'nowiamgettingangryandiwantmydamnpho', 'honesltyitdidnttastethatfresh', 'thepotatoeswerelikerubberandyoucouldtelltheyhadbeenmadeupaheadoftimebeingkeptunderawarm', 'thefriesweregreattoo', 'agreattouch', 'servicewasveryprompt', 'wouldnotgoback', 'thecashierhadnocarewhatsoeveronwhatihadtosayitstillendedupbeingwayyyoverpr', 'itriedthecapecodravolichickenwithcranberrymmmm', 'iwasdisgustedbecauseiwasprettysurethatwashumanhair', 'iwasshockedbecausenosignsindicatecashonli', 'highlyrecommend', 'waitresswasalittleslowinservic', 'thisplaceisnotworthyourtimeletalonevega', 'didnotlikeatal', 'theburrittosblah', 'thefoodamaz', 'serviceisalsocut', 'icouldcarelesstheinteriorisjustbeauti', 'sotheyperform', 'thatsrighttheredvelvetcakeohhhthisstuffissogood', 'theyneverbroughtasaladweaskedfor', 'thisholeinthewallhasgreatmexicanstreettacosandfriendlystaff', 'tookanhourtogetourfoodonlytablesinrestaurantmyfoodwaslukewarmourseverwasrunningaroundlikehewastotallyoverwhelm', 'theworstwasthesalmonsashimi', 'alsotherearecomboslikeaburgerfriesandbeerforwhichisadecentd', 'thiswaslikethefinalblow', 'ifoundthisplacebyaccidentandicouldnotbehappi', 'seemslikeagoodquickplacetogrababiteofsomefamiliarpubfoodbutdoyourselfafavorandlookelsewher', 'overallilikethisplacealot', 'theonlyredeemingqualityoftherestaurantwasthatitwasveryinexpens', 'ampleportionsandgoodpric', 'poorservicethewaitermademefeellikeiwasstupideverytimehecametothet', 'myfirstvisittohirowasadelight', 'servicesuck', 'theshrimptenderandmoist', 'thereisnotadealgoodenoughthatwoulddragmeintothatestablishmentagain', 'hardtojudgewhetherthesesidesweregoodbecauseweweregrossedoutbythemeltedstyrofoamanddidntwanttoeatitforfearofgettingsick', 'onapositivenoteourserverwasveryattentiveandprovidedgreatservic', 'frozenpucksofdisgustwithsomeoftheworstpeoplebehindtheregist', 'theonlythingididlikewastheprimeribanddessertsect', 'itstoobadthefoodissodamngener', 'theburgerisgoodbeefcookedjustright', 'ifyouwantasandwichjustgotoanyfirehous', 'mysidegreeksaladwiththegreekdressingwassotastyandthepitaandhummuswasveryrefresh', 'weorderedtheduckrareanditwaspinkandtenderontheinsidewithanicecharontheoutsid', 'hecamerunningafteruswhenherealizedmyhusbandhadlefthissunglassesonthet', 'theirchowmeinissogood', 'theyhavehorribleattitudestowardscustomersandtalkdowntoeachonewhencustomersdontenjoytheirfood', 'theportionwashug', 'loveditfriendlyserversgreatfoodwonderfulandimaginativemenu', 'theheartattackgrillindowntownvegasisanabsolutelyflatlinedexcuseforarestaur', 'notmuchseafoodandlikestringsofpastaatthebottom', 'thesaladhadjusttherightamountofsaucetonotoverpowerthescallopwhichwasperfectlycook', 'therippedbananawasnotonlyrippedbutpetrifiedandtasteless', 'atleastthinktorefillmywaterbeforeistruggletowaveyouoverforminut', 'thisplacereceivesstarsfortheirappet', 'thecocktailsareallhandmadeanddelici', 'weddefinitelygobackhereagain', 'wearesogladwefoundthisplac', 'greatfoodandservicehugeportionsandtheygiveamilitarydiscount', 'alwaysagreattimeatdosgringo', 'updatewentbackforasecondtimeanditwasstilljustasamaz', 'wegotthefoodandapparentlytheyhaveneverheardofsaltandthebatteronthefishwaschewi', 'agreatwaytofinishagreat', 'thedealincludedtastingsanddrinksandjeffwentaboveandbeyondwhatweexpect', 'reallyreallygoodriceallthetim', 'theservicewasmeh', 'ittookovermintogettheirmilkshakewhichwasnothingmorethanchocolatemilk', 'iguessishouldhaveknownthatthisplacewouldsuckbecauseitisinsideoftheexcaliburbutididntusemycommonsens', 'thescallopdishisquiteappallingforvalueaswel', 'timesverybadcustomerservic', 'thesweetpotatofrieswereverygoodandseasonedwel', 'todayisthesecondtimeivebeentotheirlunchbuffetanditwasprettygood', 'thereissomuchgoodfoodinvegasthatifeelcheatedforwastinganeatingopportunitybygoingtoriceandcompani', 'cominghereislikeexperiencinganunderwhelmingrelationshipwherebothpartiescantwaitfortheotherpersontoasktobreakup', 'walkedinandtheplacesmelledlikeanoldgreasetrapandonlyothersthere', 'theturkeyandroastbeefwerebland', 'thisplacehasit', 'thepancakeseveryoneareravingabouttastelikeasugarydisastertailoredtothepalateofasixyearold', 'ilovethephoandthespringrollsohsoyummyyouhavetotri', 'thepoorbattertomeatratiomadethechickentendersveryunsatisfi', 'allihavetosayisthefoodwasamaz', 'omeletsaretodiefor', 'everythingwasfreshanddelici', 'insummarythiswasalargelydisappointingdiningexperi', 'itslikeareallysexypartyinyourmouthwhereyoureoutrageouslyflirtingwiththehottestpersonattheparti', 'neverbeentohardrockcasinobeforewillnevereverstepforwardinitagain', 'bestbreakfastbuffet', 'saybyebyetoyourtipladi', 'wellnevergoagain', 'willbebackagain', 'foodarrivedquickli', 'itwasnotgood', 'ontheupsidetheircafeservesreallygoodfood', 'ourserverwasfantasticandwhenhefoundoutthewifelovesroastedgarlicandbonemarrowheaddedextratoourmealandanothermarrowtogo', 'theonlygoodthingwasourwaiterhewasveryhelpfulandkeptthebloddymaryscom', 'bestbuffetintownforthepriceyoucannotbeatit', 'ilovedtheirmusselscookedinthiswinereductiontheduckwastenderandtheirpotatodishesweredelici', 'thisisoneofthebetterbuffetsthatihavebeento', 'sowewenttotigerlillyandhadafantasticafternoon', 'thefoodwasdeliciousourbartenderwasattentiveandpersonableandwegotagreatd', 'theambienceiswonderfulandthereismusicplay', 'willgobacknexttripout', 'sooooogood', 'realsushiloversletsbehonestyamaisnotthatgood', 'atleastminpassedinbetweenusorderingandthefoodarrivinganditwasntthatbusi', 'thisisareallyfantasticthairestaurantwhichisdefinitelyworthavisit', 'nicespicyandtend', 'goodpric', 'checkitout', 'itwasprettygross', 'ivehadbetteratmospher', 'kindofhardtomessupasteakbuttheydid', 'althoughiverymuchlikedthelookandsoundofthisplacetheactualexperiencewasabitdisappoint', 'ijustdontknowhowthisplacemanagedtoservedtheblandestfoodihaveevereatenwhentheyarepreparingindiancuisin', 'worstservicetobootbutthatistheleastoftheirworri', 'servicewasfineandthewaitresswasfriendli', 'theguysallhadsteaksandoursteaklovingsonwhohashadsteakatthebestandworstplacessaiditwasthebeststeakhesevereaten', 'wethoughtyoudhavetoventurefurtherawaytogetgoodsushibutthisplacereallyhitthespotthatnight', 'hoststaffwereforlackofabetterwordbitch', 'blandnotalikingthisplaceforanumberofreasonsandidontwanttowastetimeonbadreviewingillleaveitatthat', 'phenomenalfoodserviceandambi', 'iwouldntreturn', 'definitelyworthventuringoffthestripfortheporkbellywillreturnnexttimeiminvega', 'thisplaceiswaytoooverpricedformediocrefood', 'pennevodkaexcel', 'theyhaveagoodselectionoffoodincludingamassivemeatloafsandwichacrispychickenwrapadelishtunameltandsometastyburg', 'themanagementisrud', 'deliciousnycbagelsgoodselectionsofcreamcheeserealloxwithcaperseven', 'greatsubwayinfactitssogoodwhenyoucomehereeveryothersubwaywillnotmeetyourexpect', 'ihadaseriouslysolidbreakfasther', 'thisisoneofthebestbarswithfoodinvega', 'hewasextremelyrudeandreallytherearesomanyotherrestaurantsiwouldlovetodineatduringaweekendinvega', 'mydrinkwasneveremptyandhemadesomereallygreatmenusuggest', 'dontdoit', 'thewaiterwasnthelpfulorfriendlyandrarelycheckedonu', 'myhusbandandiatelunchhereandwereverydisappointedwiththefoodandservic', 'andtheredcurryhadsomuchbambooshootsandwasntverytastytom', 'niceblanketofmozovertopbutifeellikethiswasdonetocoverupthesubparfood', 'thebathroomsarecleanandtheplaceitselfiswelldecor', 'themenuisalwayschangingfoodqualityisgoingdownserviceisextremelyslow', 'theservicewasalittleslowconsideringthatwereservedbypeopleserverssothefoodwascominginaslowpac', 'igiveitthumbsdown', 'wewatchedourwaiterpayalotmoreattentiontoothertablesandignoreu', 'myfiancandicameinthemiddleofthedayandweweregreetedandseatedrightaway', 'thisisagreatrestaurantatthemandalaybay', 'wewaitedforfortyfiveminutesinvain', 'crostinithatcamewiththesaladwasstal', 'somehighlightsgreatqualitynigiriher', 'thestaffisfriendlyandthejointisalwaysclean', 'thiswasadifferentcutthanthepiecetheotherdaybutstillwonderfulandtenderswellaswellflavor', 'iorderedthevoodoopastaanditwasthefirsttimeidhadreallyexcellentpastasincegoingglutenfreeseveralyearsago', 'thisplaceisgood', 'unfortunatelywemusthavehitthebakeryonleftoverdaybecauseeverythingweorderedwasstal', 'icamebacktodaysincetheyrelocatedandstillnotimpress', 'iwasseatedimmedi', 'theirmenuisdiverseandreasonablypr', 'avoidatallcost', 'restaurantisalwaysfullbutneverawait', 'delici', 'thisplaceishandsdownoneofthebestplacestoeatinthephoenixmetroarea', 'sodontgothereifyouarelookingforgoodfood', 'iveneverbeentreatedsobad', 'baconishellasalti', 'wealsoorderedthespinachandavocadosaladtheingredientsweresadandthedressingliterallyhadzerotast', 'thisreallyishowvegasfinediningusedtoberightdowntothemenushandedtotheladiesthathavenopriceslist', 'thewaitressesareveryfriendli', 'lordythekhaosoiisadishthatisnottobemissedforcurrylov', 'everythingonthemenuisterrificandwewerealsothrilledthattheymadeamazingaccommodationsforourvegetariandaught', 'perhapsicaughtthemonanoffnightjudgingbytheotherreviewsbutimnotinspiredtogoback', 'theservicehereleavesalottobedesir', 'theatmosphereismodernandhipwhilemaintainingatouchofcozi', 'notaweeklyhauntbutdefinitelyaplacetocomebacktoeveryonceinawhil', 'weliterallysatthereforminuteswithnooneaskingtotakeourord', 'theburgerhadabsolutelynoflavorthemeatitselfwastotallyblandtheburgerwasovercookedandtherewasnocharcoalflavor', 'ialsodecidednottosenditbackbecauseourwaitresslookedlikeshewasonthevergeofhavingaheartattack', 'idresseduptobetreatedsorud', 'itwasprobablydirt', 'lovethisplacehitsthespotwheniwantsomethinghealthybutnotlackinginquantityorflavor', 'iorderedthelemonraspberryicecocktailwhichwasalsoincred', 'thefoodsuckedwhichweexpectedbutitsuckedmorethanwecouldhaveimagin', 'interestingdecor', 'whatireallylikethereisthecrepest', 'alsowereservedhotbreadandbutterandhomemadepotatochipswithbaconbitsontopveryoriginalandverygood', 'youcanwatchthempreparingthedeliciousfood', 'bothoftheeggrollswerefantast', 'whenmyorderarrivedoneofthegyroswasmiss', 'ihadasaladwiththewingsandsomeicecreamfordessertandleftfeelingquitesatisfi', 'imnotreallysurehowjoeyswasvotedbesthotdoginthevalleybyreadersofphoenixmagazin', 'thebestplacetogoforatastybowlofpho', 'thelivemusiconfridaystotallyblow', 'iveneverbeenmoreinsultedorfeltdisrespect', 'veryfriendlystaff', 'itisworththedr', 'ihadheardgoodthingsaboutthisplacebutitexceedingeveryhopeicouldhavedreamedof', 'foodwasgreatandsowastheserivc', 'thewarmbeerdidnthelp', 'greatbrunchspot', 'serviceisfriendlyandinvit', 'verygoodlunchspot', 'ivelivedheresinceandthiswasthefirstandlasttimeivesteppedfootintothisplac', 'theworstexperienceev', 'musthavebeenanoffnightatthisplac', 'thesidesaredelishmixedmushroomsyukongoldpureewhitecornbeat', 'ifthatbugnevershowedupiwouldhavegivenaforsurebutontheothersideofthewallwherethisbugwasclimbingwasthekitchen', 'foraboutminuteswewerewaitingforhersaladwhenwerealizedthatitwasntcominganytimesoon', 'myfriendlovedthesalmontartar', 'wontgoback', 'extremelytasti', 'waitresswasgoodthough', 'soggyandnotgood', 'thejamaicanmojitosaredelici', 'whicharesmallandnotworththepric', 'thefoodisrichsoorderaccordingli', 'theshowerareaisoutsidesoyoucanonlyrinsenottakeafullshowerunlessyoudontmindbeingnudeforeveryonetose', 'theservicewasabitlack', 'lobsterbisquebussellsproutsrisottofiletallneededsaltandpepperandofcoursethereisnoneatthet', 'hopefullythisbodesforthemgoingoutofbusinessandsomeonewhocancookcancomein', 'itwaseithertoocoldnotenoughflavororjustbad', 'ilovedthebaconwrappedd', 'thisisanunbelievablebargain', 'thefolksatottoalwaysmakeusfeelsowelcomeandspeci', 'asforthemainsalsouninspir', 'thisistheplacewhereifirsthadphoanditwasamaz', 'thiswonderfulexperiencemadethisplaceamuststopwheneverweareintownagain', 'ifthefoodisntbadenoughforyouthenenjoydealingwiththeworldsworstannoyingdrunkpeopl', 'veryveryfunchef', 'orderedadoublecheeseburgergotasinglepattythatwasfallingapartpictureuploadedyeahstillsuck', 'greatplacetohaveacoupledrinksandwatchanyandallsportingeventsasthewallsarecoveredwithtv', 'ifitwerepossibletogivethemzerostarstheydhaveit', 'thedescriptionssaidyumyumsauceandanothersaideelsauceyetanothersaidspicymayowellnoneoftherollshadsaucesonthem', 'idsaythatwouldbethehardestdecisionhonestlyallofmsdishestastehowtheyaresupposedtotasteamaz', 'ifshehadnotrolledtheeyeswemayhavestayednotsureifwewillgobackandtryitagain', 'everyoneisveryattentiveprovidingexcellentcustomerservic', 'horribledontwasteyourtimeandmoney', 'nowthisdishwasquiteflavour', 'bythistimeoursideoftherestaurantwasalmostemptysotherewasnoexcus', 'itwasntbusyeitheralsothebuildingwasfreezingcold', 'liketheotherreviewersaidyoucouldntpaymetoeatatthisplaceagain', 'drinkstookclosetominutestocomeoutatonepoint', 'seriouslyflavorfuldelightsfolk', 'muchbetterthantheotheraycesushiplaceiwenttoinvega', 'thelightingisjustdarkenoughtosetthemood', 'basedonthesubparserviceireceivedandnoefforttoshowtheirgratitudeformybusinessiwontbegoingback', 'ownersarereallygreatpeopl', 'thereisnothingprivilegedaboutworkingeatingther', 'thegreekdressingwasverycreamyandflavor', 'overallidontthinkthatiwouldtakemyparentstothisplaceagainbecausetheymademostofthesimilarcomplaintsthatisilentlyfelttoo', 'nowthepizzaitselfwasgoodthepeanutsaucewasverytasti', 'wehadatourtableandtheservicewasprettyfast', 'fantasticserviceher', 'iaswellwouldvegivengodfatherszerostarsifposs', 'theyknowhowtomakethemher', 'verytoughandveryshortonflavor', 'ihopethisplacesticksaround', 'ihavebeeninmorethanafewbarsinvegasanddonoteverrecallbeingchargedfortapwat', 'therestaurantatmospherewasexquisit', 'goodserviceverycleanandinexpensivetoboot', 'theseafoodwasfreshandgenerousinport', 'plusitsonlybuck', 'theservicewasnotuptopareith', 'thusfarhaveonlyvisitedtwiceandthefoodwasabsolutelydeliciouseachtim', 'justasgoodaswhenihaditmorethanayearago', 'foraselfproclaimedcoffeecafeiwaswildlydisappoint', 'theveggitarianplatterisoutofthisworld', 'youcantgowrongwithanyofthefoodher', 'youcantbeatthat', 'stoppedbythisplacewhileinmadisonfortheironmanveryfriendlykindstaff', 'thechefswerefriendlyanddidagoodjob', 'ivehadbetternotonlyfromdedicatedbobateaspotsbutevenfromjennipho', 'ilikedthepatioandtheservicewasoutstand', 'thegoattacodidntskimponthemeatandwowwhatflavor', 'ithinknotagain', 'ihadthemacsaladanditwasprettyblandsoiwillnotbegettingthatagain', 'iwenttobachiburgeronafriendsrecommendationandwasnotdisappoint', 'servicestinksher', 'iwaitedandwait', 'thisplaceisnotqualitysushiitisnotaqualityrestaur', 'iwoulddefinitelyrecommendthewingsaswellasthepizza', 'greatpizzaandsalad', 'thingsthatwentwrongtheyburnedthesaganaki', 'wewaitedanhourforwhatwasabreakfasticouldhavedonetimesbetterathom', 'thisplaceisamaz', 'ihatetodisagreewithmyfellowyelpersbutmyhusbandandiweresodisappointedwiththisplac', 'waitedhoursnevergoteitherofourpizzasasmanyotherarounduswhocameinlaterdid', 'justdontknowwhytheyweresoslow', 'thestaffisgreatthefoodisdelishandtheyhaveanincrediblebeerselect', 'iliveintheneighborhoodsoiamdisappointediwontbebackherebecauseitisaconvenientloc', 'ididntknowpulledporkcouldbesoooodelici', 'yougetincrediblyfreshfishpreparedwithcar', 'beforeigointowhyigaveastarratingpleaseknowthatthiswasmythirdtimeeatingatbachiburgerbeforewritingareview', 'ilovethefactthateverythingontheirmenuisworthit', 'neveragainwillibediningatthisplac', 'thefoodwasexcellentandservicewasverygood', 'goodbeerdrinkselectionandgoodfoodselect', 'pleasestayawayfromtheshrimpstirfriednoodl', 'thepotatochiporderwassadicouldprobablycounthowmanychipswereinthatboxanditwasprobablyaround', 'foodwasreallybor', 'goodservicecheck', 'thisgreedycorporationwillneverseeanotherdimefromm', 'willneverevergoback', 'asmuchasidliketogobackicantgetpassedtheatrociousserviceandwillneverreturn', 'inthesummeryoucandineinacharmingoutdoorpatiosoverydelight', 'ididnotexpectthistobesogood', 'fantasticfood', 'sheorderedatoastedenglishmuffinthatcameoutuntoast', 'thefoodwasverygood', 'nevergoingback', 'greatfoodforthepricewhichisveryhighqualityandhousemad', 'thebusboyontheotherhandwassorud', 'bythispointmyfriendsandihadbasicallyfiguredoutthisplacewasajokeanddidntmindmakingitpubliclyandloudlyknown', 'backtogoodbbqlighterfarereasonablepricingandtellthepublictheyarebacktotheoldway', 'andconsideringthetwoofusleftthereveryfullandhappyforaboutyoujustcantgowrong', 'allthebreadismadeinhous', 'theonlydownsideistheservic', 'alsothefriesarewithoutadoubttheworstfriesiveeverhad', 'servicewasexceptionalandfoodwasagoodasallthereview', 'acoupleofmonthslaterireturnedandhadanamazingm', 'favoriteplaceintownforshawarrrrrrma', 'theblackeyedpeasandsweetpotatoesunr', 'youwontbedisappoint', 'theycouldserveitwithjustthevinaigretteanditmaymakeforabetteroveralldishbutitwasstillverygood', 'igotofartoomanyplacesandiveneverseenanyrestaurantthatservesaeggbreakfastespeciallyfor', 'whenmymomandigothomesheimmediatelygotsickandsheonlyhadafewbitesofsalad', 'theserversarenotpleasanttodealwithandtheydontalwayshonorpizzahutcoupon', 'bothofthemweretrulyunbelievablygoodandiamsogladwewentback', 'wehadfantasticserviceandwerepleasedbytheatmospher', 'everythingwasgross', 'ilovethisplac', 'greatserviceandfood', 'firstthebathroomsatthislocationweredirtyseatcoverswerenotreplenishedjustplainyucki', 'theburgerigotthegoldstandardaburgerandwaskindofdisappoint', 'omgthefoodwasdelicioso', 'thereisnothingauthenticaboutthisplac', 'thespaghettiisnothingspecialwhatsoev', 'ofallthedishesthesalmonwasthebestbutallweregreat', 'thevegetablesaresofreshandthesaucefeelslikeauthenticthai', 'itsworthdrivingupfromtucson', 'theselectionwasprobablytheworstiveseeninvegastherewasnon', 'prettygoodbeerselectiontoo', 'thisplaceislikechipotlebutbett', 'classywarmatmospherefunandfreshappetizerssucculentsteaksbaseballsteak', 'starsforthebrickovenbreadapp', 'ihaveeatenheremultipletimesandeachtimethefoodwasdelici', 'wesatanothertenminutesandfinallygaveupandleft', 'hewasterr', 'everyoneistreatedequallyspeci', 'itshouldnttakeminforpancakesandegg', 'itwasdelici', 'onthegoodsidethestaffwasgenuinelypleasantandenthusiasticarealtreat', 'sadlygordonramseyssteakisaplaceweshallsharplyavoidduringournexttriptovega', 'asalwaystheeveningwaswonderfulandthefooddelici', 'bestfishiveeverhadinmylif', 'thebathroomisjustnextdoorandverynic', 'thebuffetissmallandallthefoodtheyofferedwasbland', 'thisisanoutstandinglittlerestaurantwithsomeofthebestfoodihaveevertast', 'prettycooliwouldsay', 'definitelyaturnoffformeidoubtillbebackunlesssomeoneelseisbuy', 'serverdidagreatjobhandlingourlargerowdyt', 'ifindwastingfoodtobedespicablebutthisjustwasntfood', 'mywifehadthelobsterbisquesoupwhichwaslukewarm', 'wouldcomebackagainifihadasushicravingwhileinvega', 'thestaffaregreattheambianceisgreat', 'hedeservesstar', 'ileftwithastomachacheandfeltsicktherestoftheday', 'theydroppedmorethanthebal', 'thediningspaceistinybutelegantlydecoratedandcomfort', 'theywillcustomizeyourorderanywayyoudlikemyusualiseggplantwithgreenbeanstirfryloveit', 'andthebeansandriceweremediocreatbest', 'besttacosintownbyfar', 'itookbackmymoneyandgotouttather', 'inaninterestingpartoftownthisplaceisamaz', 'rudeinconsideratemanag', 'thestaffarenownotasfriendlythewaittimesforbeingservedarehorriblenooneevensayshiforthefirstminut', 'iwontbeback', 'theyhavegreatdinn', 'theservicewasoutshiningidefinitelyrecommendthehalibut', 'thefoodwasterr', 'willneverevergobackandhavetoldmanypeoplewhathadhappen', 'idontrecommendunlessyourcarbreaksdowninfrontofitandyouarestarv', 'iwillcomebackhereeverytimeiminvega', 'thisplacedeservesonestarandhastodowiththefood', 'thisisadisgrac', 'defcomingbacktobowlnexttim', 'ifyouwanthealthyauthenticorethicfoodtrythisplac', 'iwillcontinuetocomehereonladiesnightandddddatenighthighlyrecommendthisplacetoanyonewhoisinthearea', 'ihavebeenhereseveraltimesinthepastandtheexperiencehasalwaysbeengreat', 'wewalkedawaystuffedandhappyaboutourfirstvegasbuffetexperi', 'servicewasexcellentandpricesareprettyreasonableconsideringthisisvegasandlocatedinsidethecrystalsshoppingmallbyaria', 'tosummarizethefoodwasincrediblenaytranscendantbutnothingbringsmejoyquitelikethememoryofthepneumaticcondimentdispens', 'improbablyoneofthefewpeopletoevergotoiansandnotlikeit', 'kidspizzaisalwaysahittoowithlotsofgreatsidedishoptionsforthekiddo', 'serviceisperfectandthefamilyatmosphereisnicetose', 'cookedtoperfectionandtheservicewasimpecc', 'thisoneissimplyadisappoint', 'overalliwasverydisappointedwiththequalityoffoodatbouchon', 'idonthavetobeanaccountanttoknowimgettingscrew', 'greatplacetoeatremindsmeofthelittlemomandpopshopsinthesanfranciscobayarea', 'todaywasmyfirsttasteofabuldogisgourmethotdogandihavetotellyouitwasmorethanieverthoughtposs', 'leftveryfrustr', 'illdefinitelybeinsoonagain', 'foodwasreallygoodandigotfullpettyfast', 'servicewasfantast', 'totalwasteoftim', 'idontknowwhatkinditisbuttheyhavethebesticedtea', 'comehungryleavehappyandstuf', 'forserviceigivethemnostar', 'icanassureyouthatyouwontbedisappoint', 'icantakealittlebadservicebutthefoodsuck', 'gaveuptryingtoeatanyofthecrustteethstillsor', 'butnowiwascompletelygrossedout', 'ireallyenjoyedeatingher', 'firsttimegoingbutithinkiwillquicklybecomearegular', 'ourserverwasveryniceandeventhoughhelookedalittleoverwhelmedwithallofourneedshestayedprofessionalandfriendlyuntiltheend', 'fromwhatmydinnercompanionstoldmeeverythingwasveryfreshwithnicetextureandtast', 'onthegroundrightnexttoourtablewasalargesmearedbeensteppedinandtrackedeverywherepileofgreenbirdpoop', 'furthermoreyoucantevenfindhoursofoperationonthewebsit', 'wevetriedtolikethisplacebutaftertimesithinkweredonewiththem', 'whatamistakethatwa', 'nocomplaint', 'thisissomeseriouslygoodpizzaandimanexpertconnisseuronthetop', 'waiterwasajerk', 'strikewhowantstoberush', 'thesearethenicestrestaurantownersiveevercomeacross', 'inevercomeagain', 'welovedthebiscuit', 'serviceisquickandfriendli', 'orderedanappetizerandtookminutesandthenthepizzaanotherminut', 'soabsolutleyfantast', 'itwasahugeawkwardlbpieceofcowthatwasthsgristleandfat', 'definitelywillcomebackhereagain', 'ilikesteinersbecauseitsdarkanditfeelslikeabar', 'wowveryspicybutdelici', 'ifyourenotfamiliarcheckitout', 'illtakemybusinessdinnerdollarselsewher', 'idlovetogoback', 'anywaythisfsrestauranthasawonderfulbreakfastlunch', 'nothingspeci', 'eachdayoftheweektheyhaveadifferentdealanditsallsodelici', 'nottomentionthecombinationofpearsalmondsandbaconisabigwinn', 'willnotbeback', 'saucewastasteless', 'thefoodisdeliciousandjustspicyenoughsobesuretoaskforspicierifyoupreferitthatway', 'myribeyesteakwascookedperfectlyandhadgreatmesquiteflavor', 'idontthinkwellbegoingbackanytimesoon', 'foodwassogooodd', 'iamfarfromasushiconnoisseurbuticandefinitelytellthedifferencebetweengoodfoodandbadfoodandthiswascertainlybadfood', 'iwassoinsult', 'thelasttimesihadlunchherehasbeenbad', 'thechickenwingscontainedthedriestchickenmeatihaveevereaten', 'thefoodwasverygoodandienjoyedeverymouthfulanenjoyablerelaxedvenueforcouplessmallfamilygroupsetc', 'nargileithinkyouaregreat', 'besttatertotsinthesouthwest', 'welovedtheplac', 'definitelynotworththeipaid', 'thevanillaicecreamwascreamyandsmoothwhiletheprofiterolechouxpastrywasfreshenough', 'iminazallthetimeandnowhavemynewspot', 'themanagerwastheworst', 'theinsideisreallyquiteniceandveryclean', 'thefoodwasoutstandingandthepriceswereveryreason', 'idontthinkillberunningbacktocarlysanytimesoonforfood', 'thisiswasduetothefactthatittookminutestobeacknowledgedthenanotherminutestogetourfoodandtheykeptforgettingth', 'lovethemargaritastoo', 'thiswasmyfirstandonlyvegasbuffetanditdidnotdisappoint', 'verygoodthough', 'theonedownnoteistheventilationcouldusesomeupgrad', 'greatporksandwich', 'dontwasteyourtimeher', 'totalletdowniwouldmuchratherjustgotothecamelbackflowershopandcartelcoffe', 'thirdthecheeseonmyfriendsburgerwascold', 'weenjoytheirpizzaandbrunch', 'thesteaksareallwelltrimmedandalsoperfectlycook', 'wehadagroupofwhenweclaimedwewouldonlyhaveandtheyhandledusbeauti', 'ilovedit', 'weaskedforthebilltoleavewithouteatingandtheydidntbringthateith', 'thisplaceisajewelinlasvegasandexactlywhativebeenhopingtofindinnearlytenyearslivingher', 'seafoodwaslimitedtoboiledshrimpandcrablegsbutthecrablegsdefinitelydidnottastefresh', 'theselectionoffoodwasnotthebest', 'deliciousandiwillabsolutelybeback', 'thisisntasmallfamilyrestaurantthisisafinediningestablish', 'theyhadatorotartarewithacavierthatwasextraordinaryandilikedthethinlyslicedwagyuwithwhitetruffl', 'idontthinkiwillbebackforaverylongtim', 'itwasattachedtoagasstationandthatisrarelyagoodsign', 'howawesomeisthat', 'iwillbebackmanytimessoon', 'themenuhadsomuchgoodstuffoniticouldnotdecid', 'worseofallhehumiliatedhisworkerrightinfrontofmebunchofhorriblenamecal', 'conclusionveryfillingm', 'theirdailyspecialsarealwaysahitwithmygroup', 'andthentragedystruck', 'thepancakewasalsoreallygoodandprettylargeatthat', 'thiswasmyfirstcrawfishexperienceanditwasdelici', 'theirmonsterchickenfriedsteakandeggsismyalltimefavorit', 'waitresswassweetandfunni', 'ialsohadtotastemymomsmultigrainpumpkinpancakeswithpecanbutterandtheywereamazingfluffyanddelici', 'idrathereatairlinefoodseri', 'cantsayenoughgoodthingsaboutthisplac', 'theambiancewasincred', 'thewaitressandmanageraresofriendli', 'iwouldnotrecommendthisplac', 'overalliwasntveryimpressedwithnoca', 'mygyrowasbasicallylettuceonli', 'terribleservic', 'thoroughlydisappoint', 'idonteachmuchpastabutilovethehomemadehandmadepastasandthinpizzasher', 'giveitatryyouwillbehappyyoudid', 'byfarthebestcheesecurdswehaveeverhad', 'reasonablypricedalso', 'everythingwasperfectthenightwewerein', 'thefoodisverygoodforyourtypicalbarfood', 'itwasadrivetogetther', 'atfirstglanceitisalovelybakerycafeniceambiancecleanfriendlystaff', 'anywayidonotthinkiwillgobackther', 'pointyourfingeratanyitemonthemenuorderitandyouwontbedisappoint', 'ohthisissuchathingofbeautythisrestaur', 'ifyouhaventgoneheregonow', 'agreasyunhealthym', 'firsttimethereandmightjustbethelast', 'thoseburgerswereamaz', 'similarlythedeliverymandidnotsayawordofapologywhenourfoodwasminutesl', 'anditwaswaytoexpens', 'besuretoorderdessertevenifyouneedtopackittogothetiramisuandcannoliarebothtodiefor', 'thiswasmyfirsttimeandicantwaituntilthenext', 'thebartenderwasalsonic', 'everythingwasgoodandtasti', 'thisplaceistwothumbsupwayup', 'thebestplaceinvegasforbreakfastjustcheckoutasatorsun', 'ifyouloveauthenticmexicanfoodandwantawholebunchofinterestingyetdeliciousmeatstochoosefromyouneedtotrythisplac', 'terriblemanag', 'anexcellentnewrestaurantbyanexperiencedfrenchman', 'iftherewerezerostarsiwouldgiveitzerostar', 'greatsteakgreatsidesgreatwineamazingdessert', 'worstmartiniev', 'thesteakandtheshrimpareinmyopinionthebestentreesatgc', 'ihadtheopportunitytodaytosampleyouramazingpizza', 'wewaitedforthirtyminutestobeseatedalthoughtherewerevacanttablesandweweretheonlyfolkswait', 'theyellowtailcarpacciowasmeltinyourmouthfresh', 'iwonttrygoingbackthereevenifitsempti', 'noimgoingtoeatthepotatothatifoundsomestrangershairinit', 'justspicyenoughperfectactu', 'lastnightwasmysecondtimedininghereandiwassohappyidecidedtogoback', 'notevenahellowewillberightwithy', 'thedessertswereabitstrang', 'myboyfriendandicamehereforthefirsttimeonarecenttriptovegasandcouldnothavebeenmorepleasedwiththequalityoffoodandservic', 'ireallydorecommendthisplaceyoucangowrongwiththisdonutplac', 'niceambi', 'iwouldrecommendsavingroomforthi', 'iguessmaybewewentonanoffnightbutitwasdisgrac', 'howevermyrecentexperienceatthisparticularlocationwasnotsogood', 'iknowthisisnotliketheotherrestaurantsatallsomethingisveryoffher', 'avoidthisestablish', 'ithinkthisrestaurantsuffersfromnottryinghardenough', 'allofthetapasdishesweredelici', 'iheartthisplac', 'mysaladhadablandvinegretteonthebabygreensandheartsofpalm', 'aftertwoifeltdisgust', 'agoodtim', 'ibelievethatthisplaceisagreatstopforthosewithahugebellyandhankeringforsushi', 'generousportionsandgreattast', 'iwillnevergobacktothisplaceandwillnevereverrecommendedthisplacetoanyon', 'theserverswentbackandforthseveraltimesnotevensomuchasanareyoubeinghelp', 'foodwasdelici', 'anhourseri', 'iconsiderthistheft', 'eewthislocationneedsacompleteoverhaul', 'werecentlywitnessedherpoorqualityofmanagementtowardsotherguestsaswel', 'waitedandwaitedandwait', 'healsocamebacktocheckonusregularlyexcellentservic', 'ourserverwassuperniceandcheckedonusmanytim', 'thepizzatastedoldsuperchewyinnotagoodway', 'iswungintogivethematrybutwasdeeplydisappoint', 'servicewasgoodandthecompanywasbett', 'thestaffarealsoveryfriendlyandeffici', 'asfortheserviceimafanbecauseitsquickandyourebeingservedbysomenicefolk', 'boywasthatsuckerdri', 'overr', 'ifyoulookforauthenticthaifoodgoelsewher', 'theirsteaksarerecommend', 'afteripulledupmycariwaitedforanotherminutesbeforebeingacknowledg', 'greatfoodandgreatserviceinacleanandfriendlyset', 'allinallicanassureyouillbeback', 'ihatethosethingsasmuchascheapqualityblackol', 'mybreakfastwasperparedgreatwithabeautifulpresentationofgiantslicesoftoastlightlydustedwithpowderedsugar', 'thekidsplayareaisnasti', 'greatplacefotakeoutoreatin', 'thewaitresswasfriendlyandhappytoaccomodateforveganveggieopt', 'omgifeltlikeihadnevereatenthaifooduntilthisdish', 'itwasextremelycrumbyandprettytasteless', 'itwasapalecolorinsteadofniceandcharandhasnoflavor', 'thecroutonsalsotastehomemadewhichisanextraplu', 'igothometoseethedriestdamnwingsev', 'itllbearegularstoponmytripstophoenix', 'ireallyenjoyedcremacafbeforetheyexpandedieventoldfriendstheyhadthebestbreakfast', 'notgoodforthemoney', 'imissitandwishtheyhadoneinphiladelphia', 'wegotsittingfairlyfastbutendedupwaitingminutesjusttoplaceourorderanotherminutesbeforethefoodarriv', 'theyalsohavethebestcheesecrispintown', 'goodvaluegreatfoodgreatservic', 'couldntaskforamoresatisfyingm', 'thefoodisgood', 'itwasawesom', 'ijustwantedtoleav', 'wemadethedriveallthewayfromnorthscottsdaleandiwasnotonebitdisappoint', 'iwillnotbeeatingthereagain', 'theownersreallyreallyneedtoquitbeingsoooooocheapletthemwrapmyfreakingsandwichintwopapersnoton', 'icheckedoutthisplaceacoupleyearsagoandwasnotimpress', 'thechickenigotwasdefinitelyreheatedandwasonlyokthewedgeswerecoldandsoggi', 'sorryiwillnotbegettingfoodfromhereanytimesoon', 'anabsolutemustvisit', 'thecowtongueandcheektacosareamaz', 'myfrienddidnotlikehisbloodymari', 'despitehowhardiratebusinessesitsactuallyrareformetogiveastar', 'theyreallywanttomakeyourexperienceagoodon', 'iwillnotreturn', 'ihadthechickenphoandittastedverybland', 'verydisappoint', 'thegrilledchickenwassotenderandyellowfromthesaffronseason', 'adrivethrumeansyoudonotwanttowaitaroundforhalfanhourforyourfoodbutsomehowwhenweendupgoingheretheymakeuswaitandwait', 'prettyawesomeplac', 'ambienceisperfect', 'bestoflucktotherudeandnoncustomerservicefocusednewmanag', 'anygrandmothercanmakearoastedchickenbetterthanthison', 'iaskedmultipletimesforthewinelistandaftersometimeofbeingignorediwenttothehostessandgotonemyself', 'thestaffisalwayssuperfriendlyandhelpfulwhichisespeciallycoolwhenyoubringtwosmallboysandababi', 'fourstarsforthefoodtheguyintheblueshirtforhisgreatvibestilllettingusintoeat', 'theroastbeefsandwichtastedreallygood', 'sameeveninghimandiarebothdrasticallysick', 'highqualitychickenonthechickencaesarsalad', 'orderedburgerrarecameinwelldon', 'wewerepromptlygreetedands', 'triedtogohereforlunchanditwasamadhous', 'iwasprovendeadwrongbythissushibarnotonlybecausethequalityisgreatbuttheserviceisfastandthefoodimpecc', 'afterwaitinganhourandbeingseatediwasnotinthegreatestofmood', 'thisisagoodjoint', 'themacaronshereareinsanelygood', 'imnoteatingher', 'ourwaiterwasveryattentivefriendlyandinform', 'maybeiftheywerentcoldtheywouldhavebeensomewhated', 'thisplacehasalotofpromisebutfailstodeliv', 'verybadexperi', 'whatamistak', 'foodwasaverageatbest', 'greatfood', 'wewontbegoingbackanytimesoon', 'veryverydisappointedorderedthebigbayplat', 'greatplacetorelaxandhaveanawesomeburgerandb', 'itisperfectforasitdownfamilymealorgettogetherwithafewfriend', 'notmuchflavortothemandverypoorlyconstruct', 'thepatioseatingwasverycomfort', 'thefriedricewasdryaswel', 'handsdownmyfavoriteitalianrestaur', 'thatjustscreamslegitinmybooksomethatsalsoprettyrarehereinvega', 'itwasjustnotafunexperi', 'theatmospherewasgreatwithalovelyduoofviolinistsplayingsongswerequest', 'ipersonallylovethehummuspitabaklavafalafelsandbabaganoushitsamazingwhattheydowitheggpl', 'veryconvenientsincewewerestayingatthemgm', 'theownersaresuperfriendlyandthestaffiscourt', 'bothgreat', 'eclecticselect', 'thesweetpotatototsweregoodbuttheonionringswereperfectionorascloseasihavehad', 'thestaffwasveryattent', 'andthechefwasgenerouswithhistimeevencamearoundtwicesowecantakepictureswithhim', 'theownerusedtoworkatnobusothisplaceisreallysimilarforhalfthepric', 'googlemediocreandiimaginesmashburgerwillpopup', 'dontgoher', 'ipromisetheywontdisappoint', 'asasushiloveravoidthisplacebyallmean', 'whatagreatdoublecheeseburg', 'awesomeserviceandfood', 'afantasticneighborhoodgem', 'icantwaittogoback', 'theplantainsweretheworstiveevertast', 'itsagreatplaceandihighlyrecommendit', 'servicewasslowandnotattent', 'igaveitstarsthenandimgivingitstarsnow', 'yourstaffspendsmoretimetalkingtothemselvesthanm', 'dessertpannacottawasamaz', 'verygoodfoodgreatatmospher', 'damngoodsteak', 'totalbrunchfail', 'pricesareveryreasonableflavorsarespotonthesauceishomemadeandtheslawisnotdrenchedinmayo', 'thedecorisniceandthepianomusicsoundtrackispleas', 'thesteakwasamazingrgefilletrellenowasthebestseafoodplateihaveeverhad', 'goodfoodgoodservic', 'itwasabsolutelyamaz', 'iprobablywontbebacktobehonest', 'willdefinitelybeback', 'thesergeantpepperbeefsandwichwithaujusauceisanexcellentsandwichaswel', 'hawaiianbreezemangomagicandpineappledelightarethesmoothiesthativetriedsofarandtheyreallgood', 'wentforlunchservicewasslow', 'wehadsomuchtosayabouttheplacebeforewewalkedinthatheexpectedittobeamazingbutwasquicklydisappoint', 'iwasmortifi', 'needlesstosaywewillneverbebackhereagain', 'anywaysthefoodwasdefinitelynotfillingatallandforthepriceyoupayyoushouldexpectmor', 'thechipsthatcameoutweredrippingwithgreaseandmostlynoted', 'iwasntreallyimpressedwithstripsteak', 'havebeengoingsinceandeverymealhasbeenawesom', 'ourserverwasveryniceandattentiveasweretheotherservingstaff', 'thecashierwasfriendlyandevenbroughtthefoodouttom', 'iworkinthehospitalityindustryinparadisevalleyandhaverefrainedfromrecommendingciboanylong', 'theatmospherehereisfun', 'wouldnotrecommendtooth', 'serviceisquickandeventogoordersarejustlikewelikeit', 'imeanreallyhowdoyougetsofamousforyourfishandchipswhenitssoterr', 'thatsaidourmouthsandbellieswerestillquitepleas', 'notmyth', 'thumbsup', 'ifyouarereadingthispleasedontgother', 'ilovedthegrilledpizzaremindedmeoflegititalianpizza', 'onlyproslargeseatingareanicebarareagreatsimpledrinkmenuthebestbrickovenpizzawithhomemadedough', 'theyhaveareallyniceatmospher', 'tonightihadtheelkfiletspecialanditsuck', 'afteronebiteiwashook', 'weorderedsomeoldclassicsandsomenewdishesaftergoingthereafewtimesandweresorelydisappointedwitheveryth', 'cutequaintsimplehonest', 'thechickenwasdeliciouslyseasonedandhadtheperfectfryontheoutsideandmoistchickenontheinsid', 'thefoodwasgreatasalwayscomplimentstothechef', 'specialthankstodylantfortherecommendationonwhattoorderallyummyformytummi', 'awesomeselectionofb', 'greatfoodandawesomeservic', 'onenicethingwasthattheyaddedgratuityonthebillsinceourpartywaslargerthanorandtheydidntexpectmoretipthanthat', 'aflywasinmyapplejuiceafli', 'thehannanchickenwasalsoverytasti', 'asfortheserviceithoughtitwasgood', 'thefoodwasbarelylukewarmsoitmusthavebeensittingwaitingfortheservertobringitoutt', 'ryansbarisdefinitelyoneedinburghestablishmentiwontberevisit', 'nicestchineserestaurantivebeeninawhil', 'overalliliketherefoodandtheservic', 'theyalsonowserveindiannaanbreadwithhummusandsomespicypinenutsaucethatwasoutofthisworld', 'probablynevercomingbackandwouldntrecommendit', 'friendspastaalsobadhebarelytouchedit', 'trythemintheairporttoexperiencesometastyfoodandspeedyfriendlyservic', 'ilovethedecorwiththechinesecalligraphywallpap', 'neverhadanythingtocomplainabouther', 'therestaurantisverycleanandhasafamilyrestaurantfeeltoit', 'itwaswayoverfri', 'imnotsurehowlongwestoodtherebutitwaslongenoughformetobegintofeelawkwardlyoutofplac', 'wheniopenedthesandwichiwasimpressedbutnotinagoodway', 'willnotbeback', 'therewasawarmfeelingwiththeserviceandifeltliketheirguestforaspecialtreat', 'anextensivemenuprovideslotsofoptionsforbreakfast', 'ialwaysorderfromthevegetarianmenuduringdinnerwhichhasawidearrayofoptionstochoosefrom', 'ihavewatchedtheirpricesinflateportionsgetsmallerandmanagementattitudesgrowrapidli', 'wonderfulliltapasandtheambiencemademefeelallwarmandfuzzyinsid', 'igottoenjoytheseafoodsaladwithafabulousvinegrett', 'thewontonswerethinnotthickandchewyalmostmeltinyourmouth', 'levelspicywasperfectwherespicedidntoverwhelmthesoup', 'weweresatrightontimeandourserverfromthegetgowasfantast', 'mainthingididntenjoyisthatthecrowdisofoldercrowdaroundmidsandup', 'whenimonthissideoftownthiswilldefinitelybeaspotillhitupagain', 'ihadtowaitoverminutestogetmydrinkandlongertogetarepa', 'thisisagreatplacetoeat', 'thejalapenobaconissoooogood', 'theservicewaspoorandthatsbeingnic', 'foodwasgoodservicewasgoodpricesweregood', 'theplacewasnotcleanandthefoodohsostal', 'thechickendishesareokthebeefislikeshoeleath', 'buttheservicewasbeyondbad', 'imsohappytobeher', 'tastedlikedirt', 'oneofthefewplacesinphoenixthatiwoulddefinatelygobacktoagain', 'theblockwasamaz', 'itsclosetomyhouseitslowkeynonfancyaffordablepricesgoodfood', 'boththehotsourtheeggflowersoupswereabsolutelystar', 'mysashimiwaspoorqualitybeingsoggyandtasteless', 'greattimefamilydinneronasundaynight', 'thefoodisnottastyatallnottosayitsrealtraditionalhunanstyl', 'whatdidbothermewastheslowservic', 'theflairbartendersareabsolutelyamaz', 'theirfrozenmargaritasarewaytoosugaryformytast', 'theseweresogoodweorderedthemtwic', 'soinanutshelltherestarauntsmellslikeacombinationofadirtyfishmarketandasew', 'mygirlfriendsvealwasverybad', 'unfortunatelyitwasnotgood', 'ihadaprettysatifyingexperi', 'jointheclubandgetawesomeoffersviaemail', 'perfectforsomeonemewhoonlylikesbeericecoldorinthiscaseevencold', 'blandandflavorlessisagoodwayofdescribingthebarelytepidmeat', 'thechainswhichimnofanofbeatthisplaceeasili', 'thenachosareamusthav', 'wewillnotbecomingback', 'idonthaveverymanywordstosayaboutthisplacebutitdoeseverythingprettywel', 'thestaffissuperniceandveryquickevenwiththecrazycrowdsofthedowntownjurieslawyersandcourtstaff', 'greatatmospherefriendlyandfastservic', 'whenireceivedmypitaitwashugeitdidhavealotofmeatinitsothumbsupther', 'onceyourfoodarrivesitsmeh', 'payingforahotdogandfriesthatlookslikeitcameoutofakidsmealatthewienerschnitzelisnotmyideaofagoodm', 'theclassicmainelobsterrollwasfantast', 'mybrotherinlawwhoworksatthemallateheresamedayandguesswhathewassickallnighttoo', 'sogoodiamgoingtohavetoreviewthisplacetwiceoncehereasatributetotheplaceandonceasatributetoaneventheldherelastnight', 'thechipsandsalsawerereallygoodthesalsawasveryfresh', 'thisplaceisgreat', 'mediocrefood', 'onceyougetinsideyoullbeimpressedwiththeplac', 'imsuperpissd', 'andservicewassuperfriendli', 'whyarethesesadlittlevegetablessoovercook', 'thisplacewassuchanicesurpris', 'theyweregoldencrispyanddelici', 'ihadhighhopesforthisplacesincetheburgersarecookedoveracharcoalgrillbutunfortunatelythetastefellflatwayflat', 'icouldeattheirbruschettaalldayitisdevin', 'notasingleemployeecameouttoseeifwewereokorevenneededawaterrefilloncetheyfinallyservedusourfood', 'lastlythemozzarellastickstheywerethebestthingweord', 'thefirsttimeievercamehereihadanamazingexperienceistilltellpeoplehowawesometheduckwa', 'theserverwasverynegligentofourneedsandmadeusfeelveryunwelcomeiwouldnotsuggestthisplac', 'theservicewasterriblethough', 'thisplaceisoverpricednotconsistentwiththeirbobaanditreallyisoverpr', 'itwaspack', 'ilovethisplac', 'icansaythatthedessertswereyummi', 'thefoodwasterr', 'theseasonalfruitwasfreshwhitepeachpure', 'itkeptgettingworseandworsesonowimofficiallydon', 'thisplaceshouldhonestlybeblownup', 'butidefinitelywouldnoteathereagain', 'donotwasteyourmoneyher', 'ilovethattheyputtheirfoodinniceplasticcontainersasopposedtocrammingitinlittlepapertakeoutbox', 'thecrpewasdelicateandthinandmoist', 'awfulservic', 'wontevergohereagain', 'foodqualityhasbeenhorr', 'forthatpriceicanthinkofafewplaceiwouldhavemuchrathergon', 'theservicehereisfairatbest', 'idolovesushibutifoundkabukitobeoverpricedoverhipandunderservic', 'doyourselfafavorandstayawayfromthisdish', 'verypoorservic', 'nooneatthetablethoughtthefoodwasaboveaverageorworththewaitthatwehadforit', 'bestserviceandfoodevermariaourserverwassogoodandfriendlyshemadeourday', 'theywereexcel', 'ipaidthebillbutdidnottipbecauseifelttheserverdidaterriblejob', 'justhadlunchhereandhadagreatexperi', 'ihaveneverhadsuchblandfoodwhichsurprisedmeconsideringthearticlewereadfocusedsomuchontheirspicesandflavor', 'foodiswayoverpricedandportionsarefuckingsmal', 'irecentlytriedcaballerosandihavebeenbackeveryweeksinc', 'forbucksaheadireallyexpectbetterfood', 'thefoodcameoutatagoodpac', 'iatetheretwiceonmylastvisitandespeciallyenjoyedthesalmonsalad', 'iwontbeback', 'wecouldnotbelievehowdirtytheoysterswer', 'thisplacedeservesnostar', 'iwouldnotrecommendthisplac', 'infactimgoingtorounduptostarsjustbecauseshewassoawesom', 'tomydisbeliefeachdishqualifiedastheworstversionofthesefoodsihaveevertast', 'baddayornotihaveaverylowtoleranceforrudecustomerservicepeopleitisyourjobtobeniceandpolitewashdishesotherwis', 'thepotatoesweregreatandsowasthebiscuit', 'iprobablywouldnotgohereagain', 'soflavorfulandhasjusttheperfectamountofheat', 'thepriceisreasonableandtheserviceisgreat', 'thewifehatedhermealcoconutshrimpandourfriendsreallydidnotenjoytheirmealseith', 'myfellagotthehuevosrancherosandtheydidntlooktooapp', 'wentinforhappyhourgreatlistofwin', 'somemaysaythisbuffetispriceybutithinkyougetwhatyoupayforandthisplaceyouaregettingquitealot', 'iprobablywontbecomingbackher', 'worstfoodserviceivehadinawhil', 'thisplaceisprettygoodnicelittlevibeintherestaur', 'talkaboutgreatcustomerserviceofcoursewewillbeback', 'hotdishesarenothotcolddishesareclosetoroomtempiwatchedstaffpreparefoodwithbarehandsnogloveseverythingisdeepfriedinoil', 'ilovetheirfriesandtheirbean', 'alwaysapleasuredealingwithhim', 'theyhaveaplethoraofsaladsandsandwichesandeverythingivetriedgetsmysealofapprov', 'thisplaceisawesomeifyouwantsomethinglightandhealthyduringthesumm', 'forsushionthestripthisistheplacetogo', 'theservicewasgreateventhemanagercameandhelpedwithourt', 'thefeelofthediningroomwasmorecollegecookingcoursethanhighclassdiningandtheservicewasslowatbest', 'istartedthisreviewwithtwostarsbutimeditingittogiveitonlyon', 'thisistheworstsushiihaveevereatbesidescostco', 'allinallanexcellentrestauranthighlightedbygreatserviceauniquemenuandabeautifulset', 'myboyfriendandisatatthebarandhadacompletelydelightfulexperi', 'weirdvibefromown', 'therewashardlyanymeat', 'ivehadbetterbagelsfromthegrocerystor', 'gotoplaceforgyro', 'ilovetheownerchefhisoneauthenticjapanesecooldud', 'nowtheburgersarentasgoodthepizzawhichusedtobeamazingisdoughyandflavorless', 'ifoundasixinchlongpieceofwireinmysalsa', 'theservicewasterriblefoodwasmediocr', 'wedefinatelyenjoyedourselv', 'iorderedalbondigassoupwhichwasjustwarmandtastedliketomatosoupwithfrozenmeatbal', 'onthreedifferentoccasionsiaskedforwelldoneormediumwellandallthreetimesigotthebloodiestpieceofmeatonmypl', 'ihadabouttwobitesandrefusedtoeatanymor', 'theservicewasextremelyslow', 'afterminuteswaitigotat', 'seriouslykillerhotchailatt', 'noallergywarningsonthemenuandthewaitresshadabsolutelynoclueastowhichmealsdidordidnotcontainpeanut', 'myboyfriendtriedthemediterraneanchickensaladandfellinlov', 'theirrotatingbeersontapisalsoahighlightofthisplac', 'pricingisabitofaconcernatmellowmushroom', 'worstthaiev', 'ifyoustayinvegasyoumustgetbreakfasthereatleastonc', 'iwanttofirstsayourserverwasgreatandwehadperfectservic', 'thepizzaselectionsaregood', 'ihadstrawberryteawhichwasgood', 'highlyunprofessionalandrudetoaloyalpatron', 'overallagreatexperi', 'spendyourmoneyelsewher', 'theirregulartoastedbreadwasequallysatisfyingwiththeoccasionalpatsofbuttermmmm', 'thebuffetatbellagiowasfarfromwhatianticip', 'andthedrinksareweakpeopl', 'myorderwasnotcorrect', 'alsoifeellikethechipsareboughtnotmadeinhous', 'afterthedisappointingdinnerwewentelsewherefordessert', 'thechipsandsalsahereisamaz', 'wewontbereturn', 'thisismynewfavvegasbuffetspot', 'iseriouslycannotbelievethattheownerhassomanyunexperiencedemployeesthatallarerunningaroundlikechickenswiththeirheadscutoff', 'veryverysad', 'ifeltinsultedanddisrespectedhowcouldyoutalkandjudgeanotherhumanbeinglikethat', 'howcanyoucallyourselfasteakhouseifyoucantproperlycookasteakidontunderstand', 'imnotimpressedwiththeconceptorthefood', 'theonlythingiwasnttoocrazyaboutwastheirguacamoleasidontlikeitpur', 'thereisreallynothingformeatpostinoshopeyourexperienceisbett', 'igotfoodpoisoninghereatthebuffet', 'theybroughtafreshbatchoffriesandiwasthinkingyaysomethingwarmbutno', 'whatshouldhavebeenahilariousyummychristmasevedinnertorememberwasthebiggestfailoftheentiretripforu', 'needlesstosayiwontbegoingbackanytimesoon', 'thisplaceisdisgust', 'everytimeieathereiseecaringteamworktoaprofessionaldegre', 'theristylecalamariwasajok', 'howevertherewassomuchgarlicinthefondueitwasbarelyed', 'icouldbarelystomachthemealbutdidntcomplainbecauseitwasabusinesslunch', 'itwassobadihadlostthehearttofinishit', 'italsotookherforevertobringusthecheckwhenweaskedforit', 'wearentonestomakeasceneatrestaurantsbutijustdontgetitdefinitelylosttheloveafterthison', 'disappointingexperi', 'thefoodisaboutonparwithdennyswhichistosaynotgoodatal', 'ifyouwanttowaitformediocrefoodanddownrightterribleservicethenthisistheplacefory', 'waaaaaayyyyyyyyyyoverratedisalliamsay', 'wewontbegoingback', 'theplacewasfairlycleanbutthefoodsimplywasntworthit', 'thisplacelackedstyl', 'thesangriawasabouthalfofaglasswinefullandwasridicul', 'dontbothercomingher', 'themeatwasprettydryihadtheslicedbrisketandpulledpork', 'thebuildingitselfseemsprettyneatthebathroomisprettytrippybutiwouldnteathereagain', 'itwasequallyaw', 'probablynotinahurrytogoback', 'veryslowatseatingevenwithreserv', 'notgoodbyanystretchoftheimagin', 'thecashewcreamsaucewasblandandthevegetableswereundercook', 'thechipolteranchdippingsausewastastelessseemedthinandwatereddownwithnoheat', 'itwasabittoosweetnotreallyspicyenoughandlackedflavor', 'iwasverydisappoint', 'thisplaceishorribleandwayoverpr', 'maybeitsjusttheirvegetarianfarebutivebeentwiceandithoughtitwasaverageatbest', 'itwasntbusyatallandnowweknowwhi', 'thetablesoutsidearealsodirtyalotofthetimeandtheworkersarenotalwaysfriendlyandhelpfulwiththemenu', 'theambianceheredidnotfeellikeabuffetsettingbutmoreofadoucheyindoorgardenforteaandbiscuit', 'conspottyservic', 'thefrieswerenothotandneitherwasmyburg', 'butthentheycamebackcold', 'thenourfoodcameoutdisappointmentensu', 'therealdisappointmentwasourwait', 'myhusbandsaidshewasveryrudedidnotevenapologizeforthebadfoodoranyth', 'theonlyreasontoeatherewouldbetofillupbeforeanightofbingedrinkingjusttogetsomecarbsinyourstomach', 'insultsprofounddeuchebaggeryandhadtogooutsideforasmokebreakwhileservingjusttosolidifyit', 'ifsomeoneorderstwotacosdontyouthinkitmaybepartofcustomerservicetoaskifitiscombooralacart', 'shewasquitedisappointedalthoughsomeblameneedstobeplacedatherdoor', 'afteralltheravereviewsicouldntwaittoeatherewhatadisappoint', 'deltacoisprettynastyandshouldbeavoidedifposs', 'itsnothardtomakeadecenthamburg', 'butidontlikeit', 'hellnowilligoback', 'wevehavegottenamuchbetterservicefromthepizzaplacenextdoorthantheserviceswereceivedfromthisrestaur', 'idontknowwhatthebigdealisaboutthisplacebutiwontbebackyaal', 'iimmediatelysaidiwantedtotalktothemanagerbutididnotwanttotalktotheguywhowasdoingshotsoffireballbehindthebar', 'theambianceisntmuchbett', 'unfortunatelyitonlysetusupfordisapppointmentwithourentre', 'thefoodwasntgood', 'yourserverssuckwaitcorrectionourserverheimersuck', 'whathappenednextwasprettyoffput', 'toobadcauseiknowitsfamilyownedireallywantedtolikethisplac', 'overpricedforwhatyouareget', 'ivomitedinthebathroommidlunch', 'ikeptlookingatthetimeandithadsoonbecomeminutesyetstillnofood', 'ihavebeentoveryfewplacestoeatthatundernocircumstanceswouldieverreturntoandthistopsthelist', 'westartedwiththetunasashimiwhichwasbrownishincolorandobviouslywasntfresh', 'foodwasbelowaverag', 'itsuredoesbeatthenachosatthemoviesbutiwouldexpectalittlebitmorecomingfromarestaur', 'allinallhalongbaywasabitofaflop', 'theproblemihaveisthattheychargeforasandwichthatisnobiggerthanasubwaysubwhichoffersbetterandmoreamountofveget', 'shrimpwheniunwrappeditiliveonlyamilefrombrushfireitwasliterallyicecold', 'itlackedflavorseemedundercookedanddri', 'itreallyisimpressivethattheplacehasntcloseddown', 'iwouldavoidthisplaceifyouarestayinginthemirag', 'therefriedbeansthatcamewithmymealweredriedoutandcrustyandthefoodwasbland', 'spendyourmoneyandtimesomeplaceels', 'aladyatthetablenexttousfoundalivegreencaterpillarinhersalad', 'thepresentationofthefoodwasaw', 'icanttellyouhowdisappointediwa', 'ithinkfoodshouldhaveflavorandtextureandbothwerelack', 'appetiteinstantlygon', 'overalliwasnotimpressedandwouldnotgoback', 'thewholeexperiencewasunderwhelmingandithinkwelljustgotoninjasushinexttim', 'thenasifihadntwastedenoughofmylifetheretheypouredsaltinthewoundbydrawingoutthetimeittooktobringthecheck']\n"
          ]
        }
      ],
      "source": [
        "print(corpus)"
      ]
    },
    {
      "cell_type": "markdown",
      "metadata": {
        "colab_type": "text",
        "id": "CLqmAkANCp1-"
      },
      "source": [
        "## Creating the Bag of Words model"
      ]
    },
    {
      "cell_type": "code",
      "execution_count": 10,
      "metadata": {
        "colab": {},
        "colab_type": "code",
        "id": "qroF7XcSCvY3"
      },
      "outputs": [],
      "source": [
        "from sklearn.feature_extraction.text import CountVectorizer\n",
        "cv = CountVectorizer(max_features=1500)\n",
        "X = cv.fit_transform(corpus).toarray()\n",
        "y = dataset.iloc[:,-1].values"
      ]
    },
    {
      "cell_type": "markdown",
      "metadata": {
        "colab_type": "text",
        "id": "DH_VjgPzC2cd"
      },
      "source": [
        "## Splitting the dataset into the Training set and Test set"
      ]
    },
    {
      "cell_type": "code",
      "execution_count": 0,
      "metadata": {
        "colab": {},
        "colab_type": "code",
        "id": "qQXYM5VzDDDI"
      },
      "outputs": [],
      "source": [
        "from sklearn.model_selection import train_test_split\n",
        "X_train, X_test, y_train, y_test = train_test_split(X, y, test_size = 0.20, random_state = 0)"
      ]
    },
    {
      "cell_type": "markdown",
      "metadata": {
        "colab_type": "text",
        "id": "VkIq23vEDIPt"
      },
      "source": [
        "## Training the Naive Bayes model on the Training set"
      ]
    },
    {
      "cell_type": "code",
      "execution_count": 0,
      "metadata": {
        "colab": {
          "base_uri": "https://localhost:8080/",
          "height": 34
        },
        "colab_type": "code",
        "id": "DS9oiDXXDRdI",
        "outputId": "77513c39-0ec6-4544-c056-26abe055b746"
      },
      "outputs": [
        {
          "data": {
            "text/plain": [
              "GaussianNB(priors=None, var_smoothing=1e-09)"
            ]
          },
          "execution_count": 6,
          "metadata": {
            "tags": []
          },
          "output_type": "execute_result"
        }
      ],
      "source": [
        "from sklearn.naive_bayes import GaussianNB\n",
        "classifier = GaussianNB()\n",
        "classifier.fit(X_train, y_train)"
      ]
    },
    {
      "cell_type": "markdown",
      "metadata": {
        "colab_type": "text",
        "id": "1JaRM7zXDWUy"
      },
      "source": [
        "## Predicting the Test set results"
      ]
    },
    {
      "cell_type": "code",
      "execution_count": 0,
      "metadata": {
        "colab": {
          "base_uri": "https://localhost:8080/",
          "height": 1000
        },
        "colab_type": "code",
        "id": "Iif0CVhFDaMp",
        "outputId": "1266c3f2-d500-440e-d756-e0eabad504a7"
      },
      "outputs": [
        {
          "name": "stdout",
          "output_type": "stream",
          "text": [
            "[[1 0]\n",
            " [1 0]\n",
            " [1 0]\n",
            " [0 0]\n",
            " [0 0]\n",
            " [1 0]\n",
            " [1 1]\n",
            " [1 0]\n",
            " [1 0]\n",
            " [1 1]\n",
            " [1 1]\n",
            " [1 1]\n",
            " [1 0]\n",
            " [1 1]\n",
            " [1 1]\n",
            " [1 1]\n",
            " [0 0]\n",
            " [0 0]\n",
            " [0 0]\n",
            " [1 1]\n",
            " [0 0]\n",
            " [0 1]\n",
            " [1 1]\n",
            " [1 0]\n",
            " [1 0]\n",
            " [0 1]\n",
            " [1 1]\n",
            " [1 1]\n",
            " [1 1]\n",
            " [0 0]\n",
            " [1 1]\n",
            " [1 1]\n",
            " [1 1]\n",
            " [1 1]\n",
            " [1 1]\n",
            " [0 0]\n",
            " [1 0]\n",
            " [0 0]\n",
            " [1 0]\n",
            " [1 1]\n",
            " [1 1]\n",
            " [1 0]\n",
            " [1 1]\n",
            " [0 0]\n",
            " [0 0]\n",
            " [0 0]\n",
            " [1 0]\n",
            " [1 0]\n",
            " [0 0]\n",
            " [0 0]\n",
            " [1 1]\n",
            " [1 1]\n",
            " [1 1]\n",
            " [1 1]\n",
            " [1 0]\n",
            " [0 0]\n",
            " [1 1]\n",
            " [1 1]\n",
            " [0 0]\n",
            " [1 1]\n",
            " [1 0]\n",
            " [0 0]\n",
            " [1 0]\n",
            " [1 0]\n",
            " [1 1]\n",
            " [0 0]\n",
            " [1 1]\n",
            " [1 1]\n",
            " [1 1]\n",
            " [1 0]\n",
            " [1 1]\n",
            " [1 1]\n",
            " [1 1]\n",
            " [1 1]\n",
            " [0 0]\n",
            " [1 0]\n",
            " [1 1]\n",
            " [0 1]\n",
            " [0 0]\n",
            " [1 1]\n",
            " [0 0]\n",
            " [1 1]\n",
            " [1 1]\n",
            " [0 0]\n",
            " [1 1]\n",
            " [1 1]\n",
            " [1 0]\n",
            " [0 0]\n",
            " [1 1]\n",
            " [1 0]\n",
            " [0 0]\n",
            " [1 1]\n",
            " [0 0]\n",
            " [0 0]\n",
            " [1 0]\n",
            " [1 1]\n",
            " [1 0]\n",
            " [1 1]\n",
            " [1 1]\n",
            " [1 0]\n",
            " [0 1]\n",
            " [1 1]\n",
            " [1 1]\n",
            " [1 0]\n",
            " [0 1]\n",
            " [1 0]\n",
            " [1 1]\n",
            " [1 1]\n",
            " [0 0]\n",
            " [0 1]\n",
            " [0 1]\n",
            " [1 1]\n",
            " [0 0]\n",
            " [1 0]\n",
            " [1 1]\n",
            " [0 0]\n",
            " [1 1]\n",
            " [1 1]\n",
            " [1 1]\n",
            " [1 1]\n",
            " [1 1]\n",
            " [0 0]\n",
            " [1 1]\n",
            " [1 0]\n",
            " [0 0]\n",
            " [0 0]\n",
            " [1 1]\n",
            " [1 0]\n",
            " [0 0]\n",
            " [1 1]\n",
            " [1 0]\n",
            " [1 1]\n",
            " [0 0]\n",
            " [0 0]\n",
            " [1 1]\n",
            " [1 1]\n",
            " [1 1]\n",
            " [1 1]\n",
            " [1 1]\n",
            " [1 0]\n",
            " [0 1]\n",
            " [1 1]\n",
            " [1 1]\n",
            " [0 0]\n",
            " [1 0]\n",
            " [0 0]\n",
            " [1 0]\n",
            " [1 1]\n",
            " [1 1]\n",
            " [1 1]\n",
            " [1 1]\n",
            " [0 1]\n",
            " [1 1]\n",
            " [1 1]\n",
            " [1 0]\n",
            " [0 0]\n",
            " [1 1]\n",
            " [1 1]\n",
            " [1 1]\n",
            " [1 0]\n",
            " [1 0]\n",
            " [0 0]\n",
            " [0 1]\n",
            " [1 1]\n",
            " [0 0]\n",
            " [0 0]\n",
            " [1 0]\n",
            " [0 0]\n",
            " [0 0]\n",
            " [0 1]\n",
            " [0 0]\n",
            " [1 1]\n",
            " [1 1]\n",
            " [0 0]\n",
            " [0 0]\n",
            " [1 1]\n",
            " [0 0]\n",
            " [1 1]\n",
            " [0 0]\n",
            " [0 1]\n",
            " [1 1]\n",
            " [0 0]\n",
            " [0 0]\n",
            " [1 0]\n",
            " [0 0]\n",
            " [1 1]\n",
            " [0 0]\n",
            " [1 1]\n",
            " [0 0]\n",
            " [1 1]\n",
            " [1 1]\n",
            " [0 0]\n",
            " [1 0]\n",
            " [1 0]\n",
            " [1 1]\n",
            " [0 0]\n",
            " [1 1]\n",
            " [1 1]\n",
            " [1 0]\n",
            " [1 1]]\n"
          ]
        }
      ],
      "source": [
        "y_pred = classifier.predict(X_test)\n",
        "print(np.concatenate((y_pred.reshape(len(y_pred),1), y_test.reshape(len(y_test),1)),1))"
      ]
    },
    {
      "cell_type": "markdown",
      "metadata": {
        "colab_type": "text",
        "id": "xoMltea5Dir1"
      },
      "source": [
        "## Making the Confusion Matrix"
      ]
    },
    {
      "cell_type": "code",
      "execution_count": 0,
      "metadata": {
        "colab": {
          "base_uri": "https://localhost:8080/",
          "height": 68
        },
        "colab_type": "code",
        "id": "Xj9IU6MxDnvo",
        "outputId": "43efba29-9811-4913-a085-8355ec1c02cb"
      },
      "outputs": [
        {
          "name": "stdout",
          "output_type": "stream",
          "text": [
            "[[55 42]\n",
            " [12 91]]\n"
          ]
        },
        {
          "data": {
            "text/plain": [
              "0.73"
            ]
          },
          "execution_count": 8,
          "metadata": {
            "tags": []
          },
          "output_type": "execute_result"
        }
      ],
      "source": [
        "from sklearn.metrics import confusion_matrix, accuracy_score\n",
        "cm = confusion_matrix(y_test, y_pred)\n",
        "print(cm)\n",
        "accuracy_score(y_test, y_pred)"
      ]
    }
  ],
  "metadata": {
    "colab": {
      "collapsed_sections": [],
      "name": "natural_language_processing.ipynb",
      "provenance": [],
      "toc_visible": true
    },
    "kernelspec": {
      "display_name": "pyml",
      "language": "python",
      "name": "python3"
    },
    "language_info": {
      "codemirror_mode": {
        "name": "ipython",
        "version": 3
      },
      "file_extension": ".py",
      "mimetype": "text/x-python",
      "name": "python",
      "nbconvert_exporter": "python",
      "pygments_lexer": "ipython3",
      "version": "3.9.18"
    }
  },
  "nbformat": 4,
  "nbformat_minor": 0
}
